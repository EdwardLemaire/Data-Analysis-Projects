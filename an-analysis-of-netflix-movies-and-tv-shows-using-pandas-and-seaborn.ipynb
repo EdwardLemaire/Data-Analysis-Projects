{
 "cells": [
  {
   "cell_type": "markdown",
   "metadata": {},
   "source": [
    "# An analysis of Netflix Movies and TV shows using Pandas and Seaborn\n",
    "\n",
    "\n",
    "Welcome.\n",
    "This is an analysis of Netflix movies and TV Shows spanning many decades. In this analysis we will explore vaious charts and insights using the data collected from Kaggle.\n",
    "Kaggle is a very trusted source of a wide range of data. We will find out how various countries have contributed to the wide range of titles available on Netflix, the most frequently featuring directors among other things.\n",
    "We will be using various funtions in the numpy, matplotlib and seaborn libraries we learned about in the Data Analysis with Python: Zero to Pandas](zerotopandas.com) course. Lets jump in."
   ]
  },
  {
   "cell_type": "markdown",
   "metadata": {},
   "source": [
    "### How to run the code\n",
    "\n",
    "This is an executable [*Jupyter notebook*](https://jupyter.org) hosted on [Jovian.ml](https://www.jovian.ml), a platform for sharing data science projects. You can run and experiment with the code in a couple of ways: *using free online resources* (recommended) or *on your own computer*.\n",
    "\n",
    "#### Option 1: Running using free online resources (1-click, recommended)\n",
    "\n",
    "The easiest way to start executing this notebook is to click the \"Run\" button at the top of this page, and select \"Run on Binder\". This will run the notebook on [mybinder.org](https://mybinder.org), a free online service for running Jupyter notebooks. You can also select \"Run on Colab\" or \"Run on Kaggle\".\n",
    "\n",
    "\n",
    "#### Option 2: Running on your computer locally\n",
    "\n",
    "1. Install Conda by [following these instructions](https://conda.io/projects/conda/en/latest/user-guide/install/index.html). Add Conda binaries to your system `PATH`, so you can use the `conda` command on your terminal.\n",
    "\n",
    "2. Create a Conda environment and install the required libraries by running these commands on the terminal:\n",
    "\n",
    "```\n",
    "conda create -n zerotopandas -y python=3.8 \n",
    "conda activate zerotopandas\n",
    "pip install jovian jupyter numpy pandas matplotlib seaborn opendatasets --upgrade\n",
    "```\n",
    "\n",
    "3. Press the \"Clone\" button above to copy the command for downloading the notebook, and run it on the terminal. This will create a new directory and download the notebook. The command will look something like this:\n",
    "\n",
    "```\n",
    "jovian clone notebook-owner/notebook-id\n",
    "```\n",
    "\n",
    "\n",
    "\n",
    "4. Enter the newly created directory using `cd directory-name` and start the Jupyter notebook.\n",
    "\n",
    "```\n",
    "jupyter notebook\n",
    "```\n",
    "\n",
    "You can now access Jupyter's web interface by clicking the link that shows up on the terminal or by visiting http://localhost:8888 on your browser. Click on the notebook file (it has a `.ipynb` extension) to open it.\n"
   ]
  },
  {
   "cell_type": "markdown",
   "metadata": {},
   "source": [
    "## Downloading the Dataset\n",
    "\n",
    "Our dataset can be found in kaggle which is a very popular platform for datasets. We will use the opendatasets librabry to download the dataset and then go ahead and use the os library to view it."
   ]
  },
  {
   "cell_type": "code",
   "execution_count": null,
   "metadata": {},
   "outputs": [],
   "source": [
    "!pip install jovian opendatasets --upgrade --quiet"
   ]
  },
  {
   "cell_type": "markdown",
   "metadata": {},
   "source": [
    "Let's begin by downloading the data, and listing the files within the dataset."
   ]
  },
  {
   "cell_type": "code",
   "execution_count": null,
   "metadata": {},
   "outputs": [],
   "source": [
    "dataset_url = 'https://www.kaggle.com/datasets/shivamb/netflix-shows'"
   ]
  },
  {
   "cell_type": "code",
   "execution_count": null,
   "metadata": {},
   "outputs": [],
   "source": [
    "import opendatasets as od\n",
    "od.download(dataset_url)"
   ]
  },
  {
   "cell_type": "markdown",
   "metadata": {},
   "source": [
    "The dataset has been downloaded and extracted."
   ]
  },
  {
   "cell_type": "code",
   "execution_count": null,
   "metadata": {},
   "outputs": [],
   "source": [
    "data_dir = './netflix-shows'"
   ]
  },
  {
   "cell_type": "code",
   "execution_count": null,
   "metadata": {},
   "outputs": [],
   "source": [
    "import os\n",
    "os.listdir(data_dir)"
   ]
  },
  {
   "cell_type": "markdown",
   "metadata": {},
   "source": [
    "Let us save and upload our work to Jovian before continuing."
   ]
  },
  {
   "cell_type": "code",
   "execution_count": null,
   "metadata": {},
   "outputs": [],
   "source": [
    "project_name = \"an-analysis-of-netflix-movies-and-tv-shows-using-pandas-and-seaborn\""
   ]
  },
  {
   "cell_type": "code",
   "execution_count": null,
   "metadata": {},
   "outputs": [],
   "source": [
    "!pip install jovian --upgrade -q"
   ]
  },
  {
   "cell_type": "code",
   "execution_count": null,
   "metadata": {},
   "outputs": [],
   "source": [
    "import jovian"
   ]
  },
  {
   "cell_type": "code",
   "execution_count": null,
   "metadata": {},
   "outputs": [],
   "source": [
    "jovian.commit(project=project_name, files=['netflix-shows'])"
   ]
  },
  {
   "cell_type": "markdown",
   "metadata": {},
   "source": [
    "## Data Preparation and Cleaning\n",
    "\n",
    "Now that we have downloaded the dataset we can get to work on cleaning it and looking through it. This is where we will address any issues regarding missing data, incorrect data and invalid data as well as perform any additional steps. This is a key step because in order to get accurate results you want to make sure you are working with accurate data from the beginning.\n",
    "\n"
   ]
  },
  {
   "cell_type": "code",
   "execution_count": null,
   "metadata": {},
   "outputs": [],
   "source": [
    "import pandas as pd\n",
    "import seaborn as sns"
   ]
  },
  {
   "cell_type": "markdown",
   "metadata": {},
   "source": [
    "Now that we have imported the relevant libraries we will go ahead and use pandas to read the csv file from the directory"
   ]
  },
  {
   "cell_type": "code",
   "execution_count": null,
   "metadata": {},
   "outputs": [],
   "source": [
    "netflix_df = pd.read_csv('netflix-shows/netflix_titles.csv')"
   ]
  },
  {
   "cell_type": "markdown",
   "metadata": {},
   "source": [
    "Alright now lets take a look at the data frame."
   ]
  },
  {
   "cell_type": "code",
   "execution_count": null,
   "metadata": {
    "scrolled": true
   },
   "outputs": [],
   "source": [
    "netflix_df"
   ]
  },
  {
   "cell_type": "markdown",
   "metadata": {},
   "source": [
    "First off, lets take a look at the basic information of the data. This includes the number of rows and columns, the number of non-null elements in each column and the data type. This basic information can let us know which area of the data to take a closer look at while cleaning."
   ]
  },
  {
   "cell_type": "code",
   "execution_count": null,
   "metadata": {
    "scrolled": true
   },
   "outputs": [],
   "source": [
    "netflix_df.info()"
   ]
  },
  {
   "cell_type": "markdown",
   "metadata": {},
   "source": [
    "The data shows 8807 entries so straight away we can tell which columns have null rows. Director, cast, country and date added clearly stand out."
   ]
  },
  {
   "cell_type": "code",
   "execution_count": null,
   "metadata": {},
   "outputs": [],
   "source": [
    "netflix_df.shape"
   ]
  },
  {
   "cell_type": "markdown",
   "metadata": {},
   "source": [
    "The dot shape function simply returns the number of rows and columns in the data frame."
   ]
  },
  {
   "cell_type": "markdown",
   "metadata": {},
   "source": [
    "Lets start our data cleaning by looking at our dates. The date column is set as an object data type by default so lets convert the column to a date format."
   ]
  },
  {
   "cell_type": "code",
   "execution_count": null,
   "metadata": {},
   "outputs": [],
   "source": [
    "netflix_df.date_added"
   ]
  },
  {
   "cell_type": "code",
   "execution_count": null,
   "metadata": {},
   "outputs": [],
   "source": [
    "netflix_df['date_added'] = pd.to_datetime(netflix_df.date_added)"
   ]
  },
  {
   "cell_type": "code",
   "execution_count": null,
   "metadata": {},
   "outputs": [],
   "source": [
    "netflix_df.date_added"
   ]
  },
  {
   "cell_type": "code",
   "execution_count": null,
   "metadata": {
    "scrolled": false
   },
   "outputs": [],
   "source": [
    "netflix_df['date_added']"
   ]
  },
  {
   "cell_type": "markdown",
   "metadata": {},
   "source": [
    "Now lets drop any columns that we deem irrelvant or we know for a fact will not be useful to our analysis. For us this is the show ID column."
   ]
  },
  {
   "cell_type": "code",
   "execution_count": null,
   "metadata": {},
   "outputs": [],
   "source": [
    "netflix_df.drop('show_id',inplace=True,axis=1)"
   ]
  },
  {
   "cell_type": "code",
   "execution_count": null,
   "metadata": {
    "scrolled": false
   },
   "outputs": [],
   "source": [
    "netflix_df"
   ]
  },
  {
   "cell_type": "markdown",
   "metadata": {},
   "source": [
    "Now let us check for null data in each column."
   ]
  },
  {
   "cell_type": "code",
   "execution_count": null,
   "metadata": {
    "scrolled": false
   },
   "outputs": [],
   "source": [
    "netflix_df.isnull().sum()"
   ]
  },
  {
   "cell_type": "markdown",
   "metadata": {},
   "source": [
    "Let us remove the nulls that will not affect the quality of the data. We want to be careful to not remove so much data that could alter the outcome of our analysis. In this case we can remove all nulls apart from directors which has over 2000 null values. "
   ]
  },
  {
   "cell_type": "code",
   "execution_count": null,
   "metadata": {},
   "outputs": [],
   "source": [
    "netflix_clean_df = netflix_df.dropna(subset=['date_added', 'rating','country'])"
   ]
  },
  {
   "cell_type": "code",
   "execution_count": null,
   "metadata": {},
   "outputs": [],
   "source": [
    "netflix_clean_df.shape"
   ]
  },
  {
   "cell_type": "code",
   "execution_count": null,
   "metadata": {
    "scrolled": true
   },
   "outputs": [],
   "source": [
    "netflix_df.shape"
   ]
  },
  {
   "cell_type": "markdown",
   "metadata": {},
   "source": [
    "After removing our null values we can see that the adjusted dataframe did not change my too much."
   ]
  },
  {
   "cell_type": "markdown",
   "metadata": {},
   "source": [
    "We can go ahead and create separate data frames for movies and TV Shows. We are doing this because we will be exploring these categories separately to an extent "
   ]
  },
  {
   "cell_type": "code",
   "execution_count": null,
   "metadata": {},
   "outputs": [],
   "source": [
    "movies = netflix_clean_df[netflix_clean_df.type == 'Movie']\n",
    "shows = netflix_clean_df[netflix_clean_df.type == 'TV Show']"
   ]
  },
  {
   "cell_type": "markdown",
   "metadata": {},
   "source": [
    "## Exploratory Analysis and Visualization\n",
    "Now that we have cleaned the data and we can explore the data further to find more insights. We will compute the mean, sum, range and other interesting statistics for numeric columns. We will apply various visualisations to help explain the data."
   ]
  },
  {
   "cell_type": "markdown",
   "metadata": {},
   "source": [
    "Let us use the describe funcition to get the descriptive statistics for both data movie and TV Show data frames. This will be applied to the release year column. The pandas library applies this function to the the most applicable column which in this case is the release year column."
   ]
  },
  {
   "cell_type": "code",
   "execution_count": null,
   "metadata": {
    "scrolled": false
   },
   "outputs": [],
   "source": [
    "movies.describe()"
   ]
  },
  {
   "cell_type": "markdown",
   "metadata": {},
   "source": [
    "The descriptive statistics tells us that there are 5,690 movies in the netflix database. The mean year is 2012 which basically means that the frequency of movie releases are heavily centered around the year 2012. This could imply that the demand for movies in the years leading up to 2012 and a few years after was high. However the standard deviation is so high which indicates that the data is not so heavily concentrated around the mean."
   ]
  },
  {
   "cell_type": "markdown",
   "metadata": {},
   "source": [
    "We can also tell that the earliest release year is 1942. The most recent release date is 2021."
   ]
  },
  {
   "cell_type": "code",
   "execution_count": null,
   "metadata": {
    "scrolled": true
   },
   "outputs": [],
   "source": [
    "shows.describe()"
   ]
  },
  {
   "cell_type": "markdown",
   "metadata": {},
   "source": [
    "The descriptive statistics tells us that there are 2,274 TV Shows in the netflix database. The mean year is 2016 which basically means that the frequency of TV Shows releases are heavily centered around the year 2016. This could imply that the demand for TV Shows in the years leading up to 2016 and a few years after was high. The standard deviation of 5 is a little high but good enough to indicate that the data moderately concentrated around the mean."
   ]
  },
  {
   "cell_type": "markdown",
   "metadata": {},
   "source": [
    "Next we are going to check for duplicates in the dataframe."
   ]
  },
  {
   "cell_type": "code",
   "execution_count": null,
   "metadata": {},
   "outputs": [],
   "source": [
    "netflix_clean_df['title'].duplicated().sum()"
   ]
  },
  {
   "cell_type": "markdown",
   "metadata": {},
   "source": [
    "The data has no repeated titles and that is a very good thing consideration all the analysis we have conducted already."
   ]
  },
  {
   "cell_type": "code",
   "execution_count": null,
   "metadata": {},
   "outputs": [],
   "source": [
    "import jovian"
   ]
  },
  {
   "cell_type": "code",
   "execution_count": null,
   "metadata": {},
   "outputs": [],
   "source": [
    "jovian.commit()"
   ]
  },
  {
   "cell_type": "markdown",
   "metadata": {},
   "source": [
    "## Import `matplotlib.pyplot` and `seaborn`.\n",
    "Let us import the matplotlib.pyplot` and `seaborn' libraries so that we can plot a few graphs"
   ]
  },
  {
   "cell_type": "code",
   "execution_count": null,
   "metadata": {},
   "outputs": [],
   "source": [
    "import seaborn as sns\n",
    "import matplotlib\n",
    "import matplotlib.pyplot as plt\n",
    "%matplotlib inline\n",
    "\n",
    "sns.set_style('darkgrid')\n",
    "matplotlib.rcParams['font.size'] = 14\n",
    "matplotlib.rcParams['figure.figsize'] = (9, 5)\n",
    "matplotlib.rcParams['figure.facecolor'] = '#00000000'"
   ]
  },
  {
   "cell_type": "markdown",
   "metadata": {},
   "source": [
    "Let's explore the release year column by plotting a graph below, and add some explanation about it."
   ]
  },
  {
   "cell_type": "code",
   "execution_count": null,
   "metadata": {},
   "outputs": [],
   "source": [
    "netflix_clean_df.head(5)"
   ]
  },
  {
   "cell_type": "code",
   "execution_count": null,
   "metadata": {
    "scrolled": false
   },
   "outputs": [],
   "source": [
    "netflix_clean_df.describe()"
   ]
  },
  {
   "cell_type": "markdown",
   "metadata": {},
   "source": [
    "We use the describe function once again but this time it applies to all the titles instead of the movies and TV Shows separately."
   ]
  },
  {
   "cell_type": "markdown",
   "metadata": {},
   "source": [
    "We can tell that the data count matches the number of rows we get from the dot shape function earlier."
   ]
  },
  {
   "cell_type": "code",
   "execution_count": null,
   "metadata": {},
   "outputs": [],
   "source": [
    "titles_per_year = netflix_clean_df['release_year'].value_counts()"
   ]
  },
  {
   "cell_type": "code",
   "execution_count": null,
   "metadata": {
    "scrolled": true
   },
   "outputs": [],
   "source": [
    "titles_per_year"
   ]
  },
  {
   "cell_type": "markdown",
   "metadata": {},
   "source": [
    "We use the values count function to count the number of times a data unit in a column appears. In other words, we can tell how many titles were released every year using the value counts function."
   ]
  },
  {
   "cell_type": "markdown",
   "metadata": {},
   "source": [
    "next let us create a data frame of the titles per year. Using pd.DataFrame"
   ]
  },
  {
   "cell_type": "code",
   "execution_count": null,
   "metadata": {},
   "outputs": [],
   "source": [
    "titles_per_year = pd.DataFrame(titles_per_year)"
   ]
  },
  {
   "cell_type": "code",
   "execution_count": null,
   "metadata": {
    "scrolled": false
   },
   "outputs": [],
   "source": [
    "titles_per_year"
   ]
  },
  {
   "cell_type": "markdown",
   "metadata": {},
   "source": [
    "Now lets rename the column to properly reflect the data in that column."
   ]
  },
  {
   "cell_type": "code",
   "execution_count": null,
   "metadata": {
    "scrolled": true
   },
   "outputs": [],
   "source": [
    "titles_per_year.rename(columns = {'release_year':'total_shows'}, inplace = True)\n",
    "titles_per_year"
   ]
  },
  {
   "cell_type": "markdown",
   "metadata": {},
   "source": [
    "Let's plot a simple line graph to show the trend of releases per year."
   ]
  },
  {
   "cell_type": "code",
   "execution_count": null,
   "metadata": {
    "scrolled": true
   },
   "outputs": [],
   "source": [
    "sns.lineplot(data = titles_per_year)\n",
    "plt.title('Netflix´s shows release date (1940-2021)')\n",
    "plt.xlabel('Year released')\n",
    "plt.ylabel('Total Shows on Netflix')\n",
    "plt.show()\n"
   ]
  },
  {
   "cell_type": "markdown",
   "metadata": {},
   "source": [
    "Now lets take a closer look at the last 10 years. From the plot above we can tell that more activity is concentrated between that range."
   ]
  },
  {
   "cell_type": "code",
   "execution_count": null,
   "metadata": {
    "scrolled": false
   },
   "outputs": [],
   "source": [
    "sns.lineplot(data = titles_per_year)\n",
    "plt.xlim(2010, 2021)\n",
    "plt.title('Netflix´s shows release date (1940-2021)')\n",
    "plt.xlabel('Year released')\n",
    "plt.ylabel('Total Shows on Netflix')\n",
    "plt.show()"
   ]
  },
  {
   "cell_type": "markdown",
   "metadata": {},
   "source": [
    "Now that we have isolated the shows released from 2010 and beyond we get a clear picture of the activity. We see a clear spike in number of releases per year starting from 2014, peaking at 2018 and slowly declining."
   ]
  },
  {
   "cell_type": "markdown",
   "metadata": {},
   "source": [
    "## Explore one or more columns by plotting a graph below, and add some explanation about it"
   ]
  },
  {
   "cell_type": "markdown",
   "metadata": {},
   "source": [
    "Now lets explore movies and tv shows again. This time lets take a count of them and plot a bar graph to show the difference in total number of movies compared to TV Shows."
   ]
  },
  {
   "cell_type": "markdown",
   "metadata": {},
   "source": [
    "Using the value_counts function we can easily get the totals."
   ]
  },
  {
   "cell_type": "code",
   "execution_count": null,
   "metadata": {},
   "outputs": [],
   "source": [
    "type_count = netflix_clean_df['type'].value_counts()\n",
    "type_count = pd.DataFrame(type_count)\n",
    "type_count.rename(columns = {'type':'total_type'}, inplace = True)\n",
    "type_count"
   ]
  },
  {
   "cell_type": "markdown",
   "metadata": {},
   "source": [
    "Now that we have the total types we can go ahead and plot our bar graph using seaborn."
   ]
  },
  {
   "cell_type": "code",
   "execution_count": null,
   "metadata": {},
   "outputs": [],
   "source": [
    "sns.barplot(x= type_count.index, y = 'total_type', data = type_count)\n",
    "plt.title('Netflix´s shows by type (1940-2021)')\n",
    "plt.xlabel('Types')\n",
    "plt.ylabel('Total Shows on Netflix')\n",
    "plt.show()"
   ]
  },
  {
   "cell_type": "markdown",
   "metadata": {},
   "source": [
    "## Explore one or more columns by plotting a graph below, and add some explanation about it"
   ]
  },
  {
   "cell_type": "markdown",
   "metadata": {},
   "source": [
    "Next lets explore the ratings column. We can extract how many titles are in each category. First lets call the our dataframe again for easy reference. We will only call a couple rows."
   ]
  },
  {
   "cell_type": "code",
   "execution_count": null,
   "metadata": {},
   "outputs": [],
   "source": [
    "netflix_clean_df.head(2)"
   ]
  },
  {
   "cell_type": "code",
   "execution_count": null,
   "metadata": {
    "scrolled": true
   },
   "outputs": [],
   "source": [
    "jovian.commit()"
   ]
  },
  {
   "cell_type": "markdown",
   "metadata": {},
   "source": [
    "Lets use the value counts function again to get the total  number of titles under each rating category. We will call that 'Clean rating'"
   ]
  },
  {
   "cell_type": "code",
   "execution_count": null,
   "metadata": {},
   "outputs": [],
   "source": [
    "clean_rating = netflix_clean_df.rating.value_counts()"
   ]
  },
  {
   "cell_type": "code",
   "execution_count": null,
   "metadata": {
    "scrolled": true
   },
   "outputs": [],
   "source": [
    "clean_rating"
   ]
  },
  {
   "cell_type": "markdown",
   "metadata": {},
   "source": [
    "Now we can see that the columns dont have any identification. So lets use the set axis function to add a name."
   ]
  },
  {
   "cell_type": "code",
   "execution_count": null,
   "metadata": {},
   "outputs": [],
   "source": [
    "clean_rating = pd.DataFrame(clean_rating)\n",
    "clean_rating = clean_rating.set_axis(['total_number'], axis=1, inplace=False)\n",
    "clean_rating"
   ]
  },
  {
   "cell_type": "markdown",
   "metadata": {},
   "source": [
    "Great. Now we notice a problem at the bottom. We see that there are runtime data in the rating column. We will just remove those so that they dont affect our analysis."
   ]
  },
  {
   "cell_type": "code",
   "execution_count": null,
   "metadata": {},
   "outputs": [],
   "source": [
    "clean_rating = clean_rating[clean_rating['total_number'] > 1]\n",
    "clean_rating"
   ]
  },
  {
   "cell_type": "markdown",
   "metadata": {},
   "source": [
    "Lets go ahead and plot another bar graph to show the various quantities of titles in each category."
   ]
  },
  {
   "cell_type": "code",
   "execution_count": null,
   "metadata": {},
   "outputs": [],
   "source": [
    "sns.barplot(x= clean_rating.index, y = 'total_number', data =clean_rating)\n",
    "plt.title('Netflix´s shows by type (1940-2021)')\n",
    "plt.xlabel('Rating')\n",
    "plt.ylabel('Total Shows on Netflix')\n",
    "plt.show()"
   ]
  },
  {
   "cell_type": "markdown",
   "metadata": {},
   "source": [
    "## Explore one or more columns by plotting a graph below, and add some explanation about it"
   ]
  },
  {
   "cell_type": "markdown",
   "metadata": {},
   "source": [
    "Lets explore the countries column now. An interesting insight would be the top 10 countries that contribute to the netflix database over the years."
   ]
  },
  {
   "cell_type": "code",
   "execution_count": null,
   "metadata": {},
   "outputs": [],
   "source": [
    "countries = netflix_clean_df['country'].value_counts().head(10)"
   ]
  },
  {
   "cell_type": "code",
   "execution_count": null,
   "metadata": {
    "scrolled": true
   },
   "outputs": [],
   "source": [
    "countries =  pd.DataFrame(countries)\n",
    "countries.rename(columns={'total_movies':'total_number'}, inplace = True)\n",
    "countries"
   ]
  },
  {
   "cell_type": "markdown",
   "metadata": {},
   "source": [
    "We can see how powerful the value counts function is in data analysis. Now lets plot a bar graph to give a visual representation of the data."
   ]
  },
  {
   "cell_type": "code",
   "execution_count": null,
   "metadata": {},
   "outputs": [],
   "source": [
    "sns.barplot(x= countries.index, y = 'country', data =countries)\n",
    "plt.title('Netflix´s shows by type (1940-2021)')\n",
    "plt.xlabel('Countries')\n",
    "plt.ylabel('Total Shows on Netflix')\n",
    "plt.show()"
   ]
  },
  {
   "cell_type": "markdown",
   "metadata": {},
   "source": [
    "Let us save and upload our work to Jovian before continuing"
   ]
  },
  {
   "cell_type": "code",
   "execution_count": null,
   "metadata": {},
   "outputs": [],
   "source": [
    "import jovian"
   ]
  },
  {
   "cell_type": "code",
   "execution_count": null,
   "metadata": {},
   "outputs": [],
   "source": [
    "jovian.commit()"
   ]
  },
  {
   "cell_type": "markdown",
   "metadata": {},
   "source": [
    "## Asking and Answering Questions\n",
    "\n",
    "In this section we are going to find answers to some interesting question about the data. The kind of answers that can inform business decisions.\n",
    "\n"
   ]
  },
  {
   "cell_type": "markdown",
   "metadata": {},
   "source": [
    "#### Q1: Showcase user demand for top 7 genres of film"
   ]
  },
  {
   "cell_type": "markdown",
   "metadata": {},
   "source": [
    "First lets print out the clean dataframe once again so that we can see what we are working with."
   ]
  },
  {
   "cell_type": "code",
   "execution_count": null,
   "metadata": {},
   "outputs": [],
   "source": [
    "netflix_clean_df"
   ]
  },
  {
   "cell_type": "markdown",
   "metadata": {},
   "source": [
    "Since the listed in section has a string of various genres in each cell we need to count the number of times a specific string occurs."
   ]
  },
  {
   "cell_type": "code",
   "execution_count": null,
   "metadata": {},
   "outputs": [],
   "source": [
    "Drama = netflix_clean_df['listed_in'].str.count('Dramas').sum()\n",
    "Documentaries = netflix_clean_df['listed_in'].str.count('Documentaries').sum()\n",
    "Comedy = netflix_clean_df['listed_in'].str.count('Comedies').sum()\n",
    "Horror = netflix_clean_df['listed_in'].str.count('Horror Movies').sum()\n",
    "Reality = netflix_clean_df['listed_in'].str.count('Reality TV').sum()\n",
    "Adventure = netflix_clean_df['listed_in'].str.count('Adventure').sum()\n",
    "SciFi = netflix_clean_df['listed_in'].str.count('Sci-Fi').sum()\n",
    "\n",
    "d = {'Genre': ['Drama', 'Documentaries', 'Comedy', 'Horror', 'Reality', 'Adventure', 'SciFi'], \n",
    "     'Data' :[Drama, Documentaries, Comedy, Horror, Reality, Adventure, SciFi]}\n",
    "top_genre_df = pd.DataFrame(d)\n",
    "top_genre_df"
   ]
  },
  {
   "cell_type": "markdown",
   "metadata": {},
   "source": [
    "The data above shows the number of titles that have been released in each of the genres. The genres were manually selected by a simple google search of the most popular genres around the world."
   ]
  },
  {
   "cell_type": "markdown",
   "metadata": {},
   "source": [
    "Our next step is to plot the graph. Since we are dealing with frequency we will use a bar graph to display our results."
   ]
  },
  {
   "cell_type": "code",
   "execution_count": null,
   "metadata": {
    "scrolled": true
   },
   "outputs": [],
   "source": [
    "sns.barplot(x= top_genre_df.Genre, y = 'Data', data =top_genre_df)\n",
    "plt.title('Netflix´s shows by Genre (1940-2021)')\n",
    "plt.xlabel('Genre')\n",
    "plt.ylabel('Total Shows on Netflix')\n",
    "plt.show()"
   ]
  },
  {
   "cell_type": "code",
   "execution_count": null,
   "metadata": {},
   "outputs": [],
   "source": [
    "jovian.commit()"
   ]
  },
  {
   "cell_type": "markdown",
   "metadata": {},
   "source": [
    "#### Q2: Who are the top ten popular directors?"
   ]
  },
  {
   "cell_type": "code",
   "execution_count": null,
   "metadata": {},
   "outputs": [],
   "source": [
    "top10_dir_df = netflix_clean_df['director'].value_counts().head(10)\n",
    "top10_dir_df"
   ]
  },
  {
   "cell_type": "code",
   "execution_count": null,
   "metadata": {},
   "outputs": [],
   "source": []
  },
  {
   "cell_type": "markdown",
   "metadata": {},
   "source": [
    "#### Q3: What is the number of Movies and TV Shows were released during the summer?"
   ]
  },
  {
   "cell_type": "markdown",
   "metadata": {},
   "source": [
    "First lets use our datetime function to allow us to interact with the month and the year indiviually. Here we will use the apply funcition as well."
   ]
  },
  {
   "cell_type": "code",
   "execution_count": null,
   "metadata": {},
   "outputs": [],
   "source": [
    "netflix_clean_df['date'] = pd.to_datetime(netflix_clean_df['date_added'])\n",
    "netflix_clean_df['date_added'] = pd.to_datetime(netflix_clean_df['date_added'])\n",
    "netflix_clean_df['year'] = netflix_clean_df['date'].apply(lambda datetime: datetime.year)\n",
    "netflix_clean_df['month'] = netflix_clean_df['date'].apply(lambda datetime: datetime.month)"
   ]
  },
  {
   "cell_type": "markdown",
   "metadata": {},
   "source": [
    "Now lets create a dataframe for movies that were released in the summer. In this case we will use May to represent the summer."
   ]
  },
  {
   "cell_type": "code",
   "execution_count": null,
   "metadata": {},
   "outputs": [],
   "source": [
    "dfm = netflix_clean_df[netflix_clean_df['type']=='Movie'][['title','month']]\n",
    "dfm = dfm[dfm['month']==5]\n",
    "dfm"
   ]
  },
  {
   "cell_type": "markdown",
   "metadata": {},
   "source": [
    "Above we see the list of movies released in May. Now we only need to use our value counts function to to count the number of instances and sum them up using the sum function"
   ]
  },
  {
   "cell_type": "code",
   "execution_count": null,
   "metadata": {},
   "outputs": [],
   "source": [
    "dfm.title.value_counts().sum()"
   ]
  },
  {
   "cell_type": "markdown",
   "metadata": {},
   "source": [
    "There were 392 Movies released in the summer."
   ]
  },
  {
   "cell_type": "markdown",
   "metadata": {},
   "source": [
    "Now lets do the same for the TV shows. We already modified our date column for this purpose so we do not need to do that again. We only need to Create a dataframe for TV shows that were released in May."
   ]
  },
  {
   "cell_type": "code",
   "execution_count": null,
   "metadata": {
    "scrolled": true
   },
   "outputs": [],
   "source": [
    "dftv = netflix_clean_df[netflix_clean_df['type']=='TV Show'][['title','month']]\n",
    "dftv = dftv[dftv['month']==5]\n",
    "dftv"
   ]
  },
  {
   "cell_type": "markdown",
   "metadata": {},
   "source": [
    "Now we apply the value counts function and sum the result."
   ]
  },
  {
   "cell_type": "code",
   "execution_count": null,
   "metadata": {},
   "outputs": [],
   "source": [
    "dftv.title.value_counts().sum()"
   ]
  },
  {
   "cell_type": "markdown",
   "metadata": {},
   "source": [
    "The final result shows there were 153 TV shows released in the summer."
   ]
  },
  {
   "cell_type": "markdown",
   "metadata": {},
   "source": [
    "#### Q4: How many cast members are typically needed to produce a title??"
   ]
  },
  {
   "cell_type": "code",
   "execution_count": null,
   "metadata": {
    "scrolled": true
   },
   "outputs": [],
   "source": [
    "import numpy as np\n",
    "temp_df = netflix_clean_df[['type', 'cast']].copy()\n",
    "temp_df['cast'] = temp_df['cast'].astype('string')\n",
    "temp_df.loc[temp_df['cast'].notnull(), 'cast'] = [str(c.count(',') + 1) \n",
    "                                                  for c in temp_df.loc[temp_df['cast'].notnull(), 'cast']]\n",
    "temp_df['cast'] = temp_df['cast'].astype('Int64')\n",
    "\n",
    "# Pivot Table\n",
    "temp_df.groupby('type').describe(percentiles=list(np.arange(0.1, 1, 0.1)))"
   ]
  },
  {
   "cell_type": "markdown",
   "metadata": {},
   "source": [
    "Most movies and TV shows have 8 cast members; however, for titles with more than 10 cast members, TV shows tend to have more."
   ]
  },
  {
   "cell_type": "markdown",
   "metadata": {},
   "source": [
    "#### Q5:How long does it take to add a newly released title?"
   ]
  },
  {
   "cell_type": "code",
   "execution_count": null,
   "metadata": {
    "scrolled": true
   },
   "outputs": [],
   "source": [
    "import numpy as np\n",
    "temp_series = netflix_clean_df['date_added'].dt.year - netflix_clean_df.release_year\n",
    "\n",
    "temp_series.hist(bins = 20, grid = False)\n",
    "plt.xlabel('Difference between Added Year and Release Year')\n",
    "plt.xticks(np.arange(0, temp_series.max(), 5))\n",
    "plt.ylabel('Count of current titles')\n",
    "plt.text(25, 3500, \n",
    "         'Median: ' + str(round(temp_series.median())) + ' year', \n",
    "         bbox={'facecolor': 'white', 'edgecolor': 'red'})\n",
    "plt.gcf().set_size_inches(12, 5)\n",
    "plt.plot()"
   ]
  },
  {
   "cell_type": "markdown",
   "metadata": {},
   "source": [
    "From the above data we find that it takes a median of 1 year to add a newly released title."
   ]
  },
  {
   "cell_type": "markdown",
   "metadata": {},
   "source": [
    "Let us save and upload our work to Jovian before continuing."
   ]
  },
  {
   "cell_type": "code",
   "execution_count": null,
   "metadata": {},
   "outputs": [],
   "source": [
    "import jovian"
   ]
  },
  {
   "cell_type": "code",
   "execution_count": null,
   "metadata": {},
   "outputs": [],
   "source": [
    "jovian.commit()"
   ]
  },
  {
   "cell_type": "markdown",
   "metadata": {},
   "source": [
    "## Inferences and Conclusion\n",
    "\n",
    "Write some explanation here: a summary of all the inferences drawn from the analysis, and any conclusions you may have drawn by answering various questions."
   ]
  },
  {
   "cell_type": "markdown",
   "metadata": {},
   "source": [
    "From the data we are able to tell the preferences of audiences. We have determined that drama and comedy genres have the highest number of titles to their names and this could be said to be due to the fact that those two genres are the most likely to attract repeat viewing. The genres are light and interesting compared to the other genres so they would have a higher demand for daily use."
   ]
  },
  {
   "cell_type": "markdown",
   "metadata": {},
   "source": [
    "The data seems to support the idea that audiences are shifting from more conventional avenues to streaming platforms. When we looked at the line graph of titles released overall we could see that the line was relatively flat until 2010 when it started to rapidly incline peaking around 2018. The general landscape of media consumption has migrated to more streaming platform primarily due to social media and this has translated to the larger platforms like Television. Users have developed a taste for \"content on demand\" and the data seems to support that."
   ]
  },
  {
   "cell_type": "code",
   "execution_count": null,
   "metadata": {},
   "outputs": [],
   "source": [
    "import jovian"
   ]
  },
  {
   "cell_type": "code",
   "execution_count": null,
   "metadata": {},
   "outputs": [],
   "source": [
    "jovian.commit()"
   ]
  },
  {
   "cell_type": "markdown",
   "metadata": {},
   "source": [
    "## References and Future Work\n",
    "\n",
    "The data is limited to the year 2020. This analysis is conducted in the year 2022. The most obvious future project would be how the corona pandemic affected releases per year giving the lockdowns that were imposed around the world. It can be assumed that there was a spike in releases in 2021 and 2022 however a data driven analysis and visualisations will be a more practical approach to understand the impact of the pandemic on streaming."
   ]
  },
  {
   "cell_type": "markdown",
   "metadata": {},
   "source": [
    "## References:\n",
    "\n",
    "* Netflix Movies and TV Shows Data set:\n",
    "https://www.kaggle.com/shivamb/netflix-shows\n",
    "\n",
    "* Pandas documentation:\n",
    "https://pandas.pydata.org/docs/reference/index.html\n",
    "\n",
    "* Seaborn documentation:\n",
    "https://seaborn.pydata.org/api.html"
   ]
  },
  {
   "cell_type": "code",
   "execution_count": null,
   "metadata": {},
   "outputs": [],
   "source": [
    "import jovian"
   ]
  },
  {
   "cell_type": "code",
   "execution_count": null,
   "metadata": {
    "scrolled": true
   },
   "outputs": [],
   "source": [
    "jovian.commit()"
   ]
  },
  {
   "cell_type": "code",
   "execution_count": null,
   "metadata": {},
   "outputs": [],
   "source": []
  }
 ],
 "metadata": {
  "kernelspec": {
   "display_name": "Python 3 (ipykernel)",
   "language": "python",
   "name": "python3"
  },
  "language_info": {
   "codemirror_mode": {
    "name": "ipython",
    "version": 3
   },
   "file_extension": ".py",
   "mimetype": "text/x-python",
   "name": "python",
   "nbconvert_exporter": "python",
   "pygments_lexer": "ipython3",
   "version": "3.9.7"
  }
 },
 "nbformat": 4,
 "nbformat_minor": 4
}
