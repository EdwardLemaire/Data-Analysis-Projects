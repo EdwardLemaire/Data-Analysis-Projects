{
 "cells": [
  {
   "cell_type": "markdown",
   "id": "62ccfc42",
   "metadata": {},
   "source": [
    "##  An Analysis And Visualization Of The World Crime Index Using Python\n",
    "\n",
    "This notebook utilizes the world crime data set to discover some insights about world safety through data manipulation and visualization practices.\n",
    "\n",
    "We will be using various funtions in the numpy, matplotlib and seaborn libraries we learned about in the Data Analysis with Python: Zero to Pandas(zerotopandas.com) course.\n",
    "\n",
    "We will demonstrate the power of visualisation and how its beneficial in exploring the relationship between variables, and how visualisations simplify complex data. We will also explore very interesting functions that will help us achieve our goals and answer some questions. Lets jump in.\n"
   ]
  },
  {
   "cell_type": "markdown",
   "id": "59f27198",
   "metadata": {},
   "source": [
    "## Downloading the Dataset\n",
    "\n",
    "Let us download our data"
   ]
  },
  {
   "cell_type": "code",
   "execution_count": 3,
   "id": "19030916",
   "metadata": {},
   "outputs": [],
   "source": [
    "!pip install jovian opendatasets --upgrade --quiet"
   ]
  },
  {
   "cell_type": "code",
   "execution_count": 5,
   "id": "793b2781",
   "metadata": {},
   "outputs": [],
   "source": [
    "Dataset_url = 'https://www.kaggle.com/datasets/kanchana1990/2023-youtube-most-viewed-top600/data'"
   ]
  },
  {
   "cell_type": "code",
   "execution_count": 8,
   "id": "f9abcd4d",
   "metadata": {},
   "outputs": [
    {
     "name": "stdout",
     "output_type": "stream",
     "text": [
      "Please provide your Kaggle credentials to download this dataset. Learn more: http://bit.ly/kaggle-creds\n",
      "Your Kaggle username: edwardakuffoaddo\n",
      "Your Kaggle Key: ········\n",
      "Downloading 2023-youtube-most-viewed-top600.zip to ./2023-youtube-most-viewed-top600\n"
     ]
    },
    {
     "name": "stderr",
     "output_type": "stream",
     "text": [
      "100%|██████████| 26.3k/26.3k [00:00<00:00, 161kB/s]"
     ]
    },
    {
     "name": "stdout",
     "output_type": "stream",
     "text": [
      "\n"
     ]
    },
    {
     "name": "stderr",
     "output_type": "stream",
     "text": [
      "\n"
     ]
    }
   ],
   "source": [
    "import opendatasets as od\n",
    "od.download(Dataset_url)"
   ]
  },
  {
   "cell_type": "code",
   "execution_count": 11,
   "id": "1b2b2792",
   "metadata": {},
   "outputs": [],
   "source": [
    "data_dir = './2023-youtube-most-viewed-top600'"
   ]
  },
  {
   "cell_type": "code",
   "execution_count": 12,
   "id": "2df5d1b1",
   "metadata": {},
   "outputs": [
    {
     "data": {
      "text/plain": [
       "['top_600_youtube_videos_2023.csv']"
      ]
     },
     "execution_count": 12,
     "metadata": {},
     "output_type": "execute_result"
    }
   ],
   "source": [
    "import os\n",
    "os.listdir(data_dir)"
   ]
  },
  {
   "cell_type": "code",
   "execution_count": 13,
   "id": "65221982",
   "metadata": {},
   "outputs": [],
   "source": [
    "project_name = \"YoutubeMostViewed23-analysis\""
   ]
  },
  {
   "cell_type": "code",
   "execution_count": 14,
   "id": "7da376d5",
   "metadata": {},
   "outputs": [],
   "source": [
    "!pip install jovian --upgrade -q"
   ]
  },
  {
   "cell_type": "code",
   "execution_count": 15,
   "id": "5fc88625",
   "metadata": {},
   "outputs": [
    {
     "name": "stdout",
     "output_type": "stream",
     "text": [
      "Requirement already satisfied: jovian in /opt/conda/lib/python3.9/site-packages (0.2.47)\n",
      "Collecting plotly\n",
      "  Downloading plotly-5.18.0-py3-none-any.whl (15.6 MB)\n",
      "     |████████████████████████████████| 15.6 MB 29.4 MB/s            \n",
      "\u001b[?25hRequirement already satisfied: requests in /opt/conda/lib/python3.9/site-packages (from jovian) (2.26.0)\n",
      "Requirement already satisfied: pyyaml in /opt/conda/lib/python3.9/site-packages (from jovian) (6.0)\n",
      "Requirement already satisfied: uuid in /opt/conda/lib/python3.9/site-packages (from jovian) (1.30)\n",
      "Requirement already satisfied: click in /opt/conda/lib/python3.9/site-packages (from jovian) (8.0.3)\n",
      "Requirement already satisfied: packaging in /opt/conda/lib/python3.9/site-packages (from plotly) (21.2)\n",
      "Collecting tenacity>=6.2.0\n",
      "  Downloading tenacity-8.2.3-py3-none-any.whl (24 kB)\n",
      "Requirement already satisfied: pyparsing<3,>=2.0.2 in /opt/conda/lib/python3.9/site-packages (from packaging->plotly) (2.4.7)\n",
      "Requirement already satisfied: urllib3<1.27,>=1.21.1 in /opt/conda/lib/python3.9/site-packages (from requests->jovian) (1.26.7)\n",
      "Requirement already satisfied: charset-normalizer~=2.0.0 in /opt/conda/lib/python3.9/site-packages (from requests->jovian) (2.0.0)\n",
      "Requirement already satisfied: certifi>=2017.4.17 in /opt/conda/lib/python3.9/site-packages (from requests->jovian) (2021.10.8)\n",
      "Requirement already satisfied: idna<4,>=2.5 in /opt/conda/lib/python3.9/site-packages (from requests->jovian) (3.1)\n",
      "Installing collected packages: tenacity, plotly\n",
      "Successfully installed plotly-5.18.0 tenacity-8.2.3\n"
     ]
    }
   ],
   "source": [
    "!pip install jovian plotly"
   ]
  },
  {
   "cell_type": "code",
   "execution_count": 17,
   "id": "5bdd072d",
   "metadata": {},
   "outputs": [],
   "source": [
    "import jovian"
   ]
  },
  {
   "cell_type": "code",
   "execution_count": 18,
   "id": "696f68ee",
   "metadata": {},
   "outputs": [
    {
     "data": {
      "application/javascript": [
       "window.require && require([\"base/js/namespace\"],function(Jupyter){Jupyter.notebook.save_checkpoint()})"
      ],
      "text/plain": [
       "<IPython.core.display.Javascript object>"
      ]
     },
     "metadata": {},
     "output_type": "display_data"
    },
    {
     "name": "stdout",
     "output_type": "stream",
     "text": [
      "[jovian] Creating a new project \"edwardakuffoaddo/YoutubeMostViewed23-analysis\"\u001b[0m\n",
      "[jovian] Committed successfully! https://jovian.com/edwardakuffoaddo/youtubemostviewed23-analysis\u001b[0m\n"
     ]
    },
    {
     "data": {
      "text/plain": [
       "'https://jovian.com/edwardakuffoaddo/youtubemostviewed23-analysis'"
      ]
     },
     "execution_count": 18,
     "metadata": {},
     "output_type": "execute_result"
    }
   ],
   "source": [
    "jovian.commit(project = project_name)"
   ]
  },
  {
   "cell_type": "markdown",
   "id": "1b597a0c",
   "metadata": {},
   "source": [
    "## lets do that again"
   ]
  },
  {
   "cell_type": "raw",
   "id": "e0e06aa4",
   "metadata": {},
   "source": [
    "Summary \n",
    "\n",
    "Dataset_url = lorem ipdum\n",
    "import opendataset as od\n",
    "od.download(dataset_url)\n",
    "\n",
    "data_dir= './copy from directory'\n",
    "import os\n",
    "os.listdir(data_dir)\n",
    "\n",
    "\n",
    "Save work\n",
    "pip install jovian\n",
    "pip install ploty\n",
    "\n",
    "project name = \"lorem ipsum\"\n",
    "import jovian\n",
    "jovian.commit(project = project name)\n",
    "\n",
    "First part is complete\n"
   ]
  },
  {
   "cell_type": "code",
   "execution_count": null,
   "id": "2c49115d",
   "metadata": {},
   "outputs": [],
   "source": []
  }
 ],
 "metadata": {
  "kernelspec": {
   "display_name": "Python 3 (ipykernel)",
   "language": "python",
   "name": "python3"
  },
  "language_info": {
   "codemirror_mode": {
    "name": "ipython",
    "version": 3
   },
   "file_extension": ".py",
   "mimetype": "text/x-python",
   "name": "python",
   "nbconvert_exporter": "python",
   "pygments_lexer": "ipython3",
   "version": "3.9.7"
  }
 },
 "nbformat": 4,
 "nbformat_minor": 5
}
